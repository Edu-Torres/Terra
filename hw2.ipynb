{
 "cells": [
  {
   "cell_type": "markdown",
   "metadata": {},
   "source": [
    "Tarea 2: Perceptrón y MSV \n",
    "----\n",
    "Román Alberto Vélez Jiménez, CU: 165462  \n",
    "Naomi Zuleth Cabrera Andrade, CU:165398\n"
   ]
  },
  {
   "cell_type": "code",
   "execution_count": 18,
   "metadata": {},
   "outputs": [],
   "source": [
    "import numpy as np\n",
    "import pandas as pd\n",
    "import matplotlib.pyplot as plt\n",
    "from pandas import DataFrame\n",
    "from urllib.request import urlretrieve\n",
    "\n",
    "# own functions\n",
    "from svm_gradiente import svm_gradient\n",
    "from svm_gds import svm_sgd\n",
    "from svm_gds import loss_01\n",
    "\n",
    "\n",
    "##Son las que yo usé\n",
    "from random import randrange"
   ]
  },
  {
   "cell_type": "markdown",
   "metadata": {},
   "source": [
    "## Toy data\n",
    "Para ver que correctamente se están ejecutando los métodos, antes de probarlos con el iris set data, los probaremos con datos simulados que sabemos que son linealmente separables"
   ]
  },
  {
   "cell_type": "code",
   "execution_count": 2,
   "metadata": {},
   "outputs": [
    {
     "data": {
      "image/png": "[encoded data removed]",
      "text/plain": [
       "<Figure size 432x288 with 1 Axes>"
      ]
     },
     "metadata": {
      "needs_background": "light"
     },
     "output_type": "display_data"
    }
   ],
   "source": [
    "#toy data set\n",
    "np.random.seed(1)\n",
    "x_test = np.random.randn(6,2) - 2\n",
    "x_test = np.vstack((x_test, np.random.randn(4,2) + 2))\n",
    "y_test = np.array([-1 if x < 6 else 1 for x in range(10)])\n",
    "\n",
    "#hyper paramethers\n",
    "lambd_test = 1\n",
    "rho_test = 0.1\n",
    "tol_test = 1e-3\n",
    "max_iter = 100\n",
    "\n",
    "# # look linear separable data\n",
    "x = x_test[:,0]\n",
    "y = x_test[:,1]\n",
    "t = np.linspace(x.min(), x.max())\n",
    "\n",
    "fig = plt.figure()\n",
    "ax = fig.add_subplot()\n",
    "ax.scatter(x, y, c=y_test)\n",
    "plt.show()\n"
   ]
  },
  {
   "cell_type": "code",
   "execution_count": 62,
   "metadata": {},
   "outputs": [
    {
     "data": {
      "text/plain": [
       "array([[-0.37565464, -2.61175641],\n",
       "       [-2.52817175, -3.07296862],\n",
       "       [-1.13459237, -4.3015387 ],\n",
       "       [-0.25518824, -2.7612069 ],\n",
       "       [-1.6809609 , -2.24937038],\n",
       "       [-0.53789206, -4.06014071],\n",
       "       [ 1.6775828 ,  1.61594565],\n",
       "       [ 3.13376944,  0.90010873],\n",
       "       [ 1.82757179,  1.12214158],\n",
       "       [ 2.04221375,  2.58281521]])"
      ]
     },
     "execution_count": 62,
     "metadata": {},
     "output_type": "execute_result"
    }
   ],
   "source": [
    "x_test"
   ]
  },
  {
   "cell_type": "code",
   "execution_count": 64,
   "metadata": {},
   "outputs": [
    {
     "data": {
      "text/plain": [
       "array([-1, -1, -1, -1, -1, -1,  1,  1,  1,  1])"
      ]
     },
     "execution_count": 64,
     "metadata": {},
     "output_type": "execute_result"
    }
   ],
   "source": [
    "y_test"
   ]
  },
  {
   "cell_type": "code",
   "execution_count": null,
   "metadata": {},
   "outputs": [],
   "source": []
  },
  {
   "cell_type": "markdown",
   "metadata": {},
   "source": [
    "SVM\n",
    "---\n",
    "\n",
    "Veamos con el toy data que el svm está funcionando correctamente\n"
   ]
  },
  {
   "cell_type": "code",
   "execution_count": 3,
   "metadata": {},
   "outputs": [
    {
     "name": "stdout",
     "output_type": "stream",
     "text": [
      "Reached optimum at k = 5\n"
     ]
    },
    {
     "data": {
      "image/png": "[encoded data removed]",
      "text/plain": [
       "<Figure size 432x288 with 1 Axes>"
      ]
     },
     "metadata": {
      "needs_background": "light"
     },
     "output_type": "display_data"
    }
   ],
   "source": [
    "# test SVM Gradient (is ok)\n",
    "th_ans, th0_ans, k_ans = svm_gradient(x_test, y_test, rho_test, lambd_test, tol_test, max_iter)\n",
    "\n",
    "# # look data and SVM\n",
    "t = np.linspace(x.min(), x.max())\n",
    "\n",
    "fig = plt.figure()\n",
    "ax = fig.add_subplot()\n",
    "ax.scatter(x, y, c=y_test)\n",
    "ax.plot(t, -(th_ans[k_ans][0] * t + th0_ans[k_ans]) / th_ans[k_ans][1], color='lightblue')\n",
    "plt.show()\n"
   ]
  },
  {
   "cell_type": "markdown",
   "metadata": {},
   "source": [
    "SVM estocástico\n",
    "---\n",
    "\n",
    "Veamos con el toy data que el svm estocástico está funcionando correctamente. Pondremos una semilla para que el índice estocástico sea siempre el mismo."
   ]
  },
  {
   "cell_type": "code",
   "execution_count": 4,
   "metadata": {
    "scrolled": false
   },
   "outputs": [
    {
     "name": "stdout",
     "output_type": "stream",
     "text": [
      "Reached optimum at k = 29\n"
     ]
    },
    {
     "data": {
      "image/png": "[encoded data removed]",
      "text/plain": [
       "<Figure size 432x288 with 1 Axes>"
      ]
     },
     "metadata": {
      "needs_background": "light"
     },
     "output_type": "display_data"
    }
   ],
   "source": [
    "# test SVM Stochastic Gradient (is ok)\n",
    "th_ans, th0_ans, k_ans = svm_sgd(x_test, y_test, rho_test, lambd_test, tol_test, max_iter)\n",
    "\n",
    "# # look data and SVM\n",
    "t = np.linspace(x.min(), x.max())\n",
    "\n",
    "fig = plt.figure()\n",
    "ax = fig.add_subplot()\n",
    "ax.scatter(x, y, c=y_test)\n",
    "ax.plot(t, -(th_ans[k_ans][0] * t + th0_ans[k_ans]) / th_ans[k_ans][1], color='lightblue')\n",
    "plt.show()\n"
   ]
  },
  {
   "cell_type": "markdown",
   "metadata": {},
   "source": [
    "# Datos iris"
   ]
  },
  {
   "cell_type": "code",
   "execution_count": 8,
   "metadata": {},
   "outputs": [],
   "source": [
    "iris = 'http://archive.ics.uci.edu/ml/machine-learning-databases/iris/iris.data'\n",
    "urlretrieve(iris)\n",
    "df = pd.read_csv(iris, sep=',')\n",
    "columnas = [\"sepal_length\", \"sepal_width\", \"petal_length\", \"petal_width\", \"class\"]\n",
    "df.columns = columnas\n",
    "y=df[\"class\"]\n",
    "y=DataFrame([1 if i==\"Iris-setosa\" else -1 for i in y], columns=['class'])\n",
    "df[\"class\"]=y"
   ]
  },
  {
   "cell_type": "code",
   "execution_count": 15,
   "metadata": {},
   "outputs": [],
   "source": [
    "def split_data(df, k):\n",
    "    dataset_split = []\n",
    "    aux = df.values.tolist()\n",
    "    fold_size = int(len(df)/k)\n",
    "    for i in range (k): \n",
    "        fold=[]\n",
    "        while len(fold)<fold_size : \n",
    "            index = randrange(len(aux))\n",
    "            fold.append(aux.pop(index))            \n",
    "        dataset_split.append(fold)\n",
    "    return dataset_split                  "
   ]
  },
  {
   "cell_type": "code",
   "execution_count": 5,
   "metadata": {},
   "outputs": [],
   "source": [
    "def test_train(split_data, i):   \n",
    "    test = []\n",
    "    aux = list(split_data)    \n",
    "    test.append(aux.pop(i))\n",
    "    train = np.array(aux[0])\n",
    "    j = 1\n",
    "    while j<len(aux): \n",
    "        a = np.array(aux[j])\n",
    "        train= np.vstack((a,train)) \n",
    "        j=j+1\n",
    "    test=np.array(test[0])\n",
    "    return (test,train)"
   ]
  },
  {
   "cell_type": "code",
   "execution_count": 6,
   "metadata": {},
   "outputs": [],
   "source": [
    "def cross_validation(split_data, attributes, rho, l, tol_test, max_iter):    \n",
    "    kfold_error = []   \n",
    "    k=len(split_data)\n",
    "    for i in range (k):\n",
    "        #split data into test and train\n",
    "        test, train = test_train(split_data, i)\n",
    "        test = DataFrame (test,columns = attributes)    \n",
    "        train= DataFrame (test,columns = attributes) \n",
    "        \n",
    "        #split data into dependent and independent variables\n",
    "        x_test = np.asarray(test.filter(attributes[0:len(attributes)-1], axis = 1))\n",
    "        y_test = np.asarray(test[attributes[-1]]) \n",
    "        x_train = np.asarray(train.filter(attributes[0:len(attributes)-1], axis = 1))\n",
    "        y_train = np.asarray(train[attributes[-1]]) \n",
    "        \n",
    "        #training\n",
    "        th, th0, k_ans = svm_gradient(x_train, y_train, rho, l, tol_test, max_iter)       \n",
    "        \n",
    "        #test_error\n",
    "        th = th[-1]\n",
    "        th0 = th0[-1]\n",
    "        n = len(x_test)\n",
    "        test_error = 0\n",
    "        for j in range (n):\n",
    "            test_error = test_error + abs(loss_01(th, th0, x_test[j], y_test[j]))    \n",
    "        kfold_error.append(test_error/n)\n",
    "        \n",
    "        \n",
    "    kfold_error=sum(kfold_error)/k\n",
    "        \n",
    "    return kfold_error \n",
    "        "
   ]
  },
  {
   "cell_type": "code",
   "execution_count": 7,
   "metadata": {},
   "outputs": [],
   "source": [
    "def lambda_optima(df, k, attributes, rho, lambdas, tol_test, max_iter):\n",
    "    split_data = split(df, k)\n",
    "    lamb_error = []    \n",
    "    for l in lambdas: \n",
    "        lamb_error.append(cross_validation(split_data, attributes, rho, l, tol_test, max_iter)) \n",
    "    minimo = lambdas[lamb_error.index(min(lamb_error))]             \n",
    "    return(minimo, min(lamb_error))     "
   ]
  },
  {
   "cell_type": "markdown",
   "metadata": {},
   "source": [
    "## Prueba\n",
    "Para clasificar usaremos 2 algoritmos: el Perceptrón y Descenso por gradiente MVS."
   ]
  },
  {
   "cell_type": "markdown",
   "metadata": {},
   "source": [
    "### Descenso por gradiente MVS\n",
    "Primero, obtendremos la lambda óptima usando el algoritmo de Descenso por gradiente MVS. Para esto, se correrán varios experimentos con validación cruzada. "
   ]
  },
  {
   "cell_type": "code",
   "execution_count": 20,
   "metadata": {},
   "outputs": [
    {
     "name": "stdout",
     "output_type": "stream",
     "text": [
      "Reached optimum at k = 7\n",
      "Reached optimum at k = 14\n",
      "Reached optimum at k = 18\n",
      "Reached optimum at k = 4\n",
      "Reached optimum at k = 2\n",
      "Reached optimum at k = 6\n",
      "Reached optimum at k = 19\n",
      "Reached optimum at k = 10\n",
      "Reached optimum at k = 50\n",
      "Reached optimum at k = 75\n",
      "Reached optimum at k = 6\n",
      "Reached optimum at k = 13\n",
      "Reached optimum at k = 7\n",
      "Reached optimum at k = 35\n",
      "Reached optimum at k = 76\n"
     ]
    }
   ],
   "source": [
    "lambdas=[0.1, .2, .3]\n",
    "k=5\n",
    "rho_test = 0.1\n",
    "tol_test = 1e-3\n",
    "max_iter = 100\n",
    "attributes=[\"petal_length\", \"petal_width\", \"class\"]\n",
    "df=df.filter(attributes, axis=1)\n",
    "\n",
    "lambda_opt, error_lambda=lambda_optima(df, k, attributes, rho_test, lambdas, tol_test, max_iter)\n"
   ]
  },
  {
   "cell_type": "code",
   "execution_count": 21,
   "metadata": {},
   "outputs": [
    {
     "data": {
      "text/plain": [
       "0.3"
      ]
     },
     "execution_count": 21,
     "metadata": {},
     "output_type": "execute_result"
    }
   ],
   "source": [
    "lambda_opt"
   ]
  },
  {
   "cell_type": "code",
   "execution_count": 22,
   "metadata": {},
   "outputs": [
    {
     "data": {
      "text/plain": [
       "0.4068965517241379"
      ]
     },
     "execution_count": 22,
     "metadata": {},
     "output_type": "execute_result"
    }
   ],
   "source": [
    "error_lambda"
   ]
  },
  {
   "cell_type": "code",
   "execution_count": null,
   "metadata": {},
   "outputs": [],
   "source": []
  }
 ],
 "metadata": {
  "kernelspec": {
   "display_name": "Python 3",
   "language": "python",
   "name": "python3"
  },
  "language_info": {
   "codemirror_mode": {
    "name": "ipython",
    "version": 3
   },
   "file_extension": ".py",
   "mimetype": "text/x-python",
   "name": "python",
   "nbconvert_exporter": "python",
   "pygments_lexer": "ipython3",
   "version": "3.8.1"
  }
 },
 "nbformat": 4,
 "nbformat_minor": 4
}
